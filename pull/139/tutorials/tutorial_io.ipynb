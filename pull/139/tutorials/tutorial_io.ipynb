{
 "cells": [
  {
   "cell_type": "raw",
   "metadata": {
    "raw_mimetype": "text/restructuredtext"
   },
   "source": [
    ".. _importing-data:\n",
    "\n",
    "Loading TCR data with scirpy\n",
    "============================"
   ]
  },
  {
   "cell_type": "code",
   "execution_count": null,
   "metadata": {},
   "outputs": [],
   "source": []
  },
  {
   "cell_type": "raw",
   "metadata": {
    "raw_mimetype": "text/restructuredtext"
   },
   "source": [
    ".. _importing-custom-formats:\n",
    "\n",
    "Creating AnnData objects from custom data\n",
    "-----------------------------------------\n",
    "\n",
    "If you believe you are working with a commonly used format, consider sending a `feature request <https://github.com/icbi-lab/scirpy/issues>`_\n",
    "for a `read_XXX` function. "
   ]
  }
 ],
 "metadata": {
  "jupytext": {
   "text_representation": {
    "extension": ".md",
    "format_name": "markdown",
    "format_version": "1.2",
    "jupytext_version": "1.5.0.rc1"
   }
  },
  "kernelspec": {
   "display_name": "Python [conda env:sctcrpy2]",
   "language": "python",
   "name": "conda-env-sctcrpy2-py"
  }
 },
 "nbformat": 4,
 "nbformat_minor": 4
}
